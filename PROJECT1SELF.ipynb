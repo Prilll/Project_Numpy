{
  "nbformat": 4,
  "nbformat_minor": 0,
  "metadata": {
    "colab": {
      "name": "PROJECT1SELF.ipynb",
      "provenance": [],
      "collapsed_sections": []
    },
    "kernelspec": {
      "name": "python3",
      "display_name": "Python 3"
    },
    "language_info": {
      "name": "python"
    }
  },
  "cells": [
    {
      "cell_type": "code",
      "execution_count": null,
      "metadata": {
        "id": "iW-LTZDqT7MO"
      },
      "outputs": [],
      "source": [
        "# Project :\n",
        "# Let us build a complete project using NumPy (without any help).\n",
        "\n",
        "# Path: project_data = 'KAG_Conversion_Data.csv'\n",
        "# Features:\n",
        "# ad_id: unique ID for each ad\n",
        "\n",
        "# xyzcampaignid: an ID associated with each ad campaign of XYZ company\n",
        "\n",
        "# fbcampaignid: an ID associated with how Facebook tracks each campaign\n",
        "\n",
        "# age: age of the person to whom the ad is shown\n",
        "\n",
        "# gender: gender of the person to whom the add is shown\n",
        "\n",
        "# interest: a code specifying the category to which the person’s \n",
        "# interest belongs (interests are as mentioned in the person’s Facebook public profile)\n",
        "\n",
        "# Impressions: the number of times the ad was shown\n",
        "\n",
        "# Clicks: number of clicks on for that ad\n",
        "\n",
        "# Spent: Amount paid by company xyz to Facebook, to show that ad\n",
        "\n",
        "# Total conversion: Total number of people who enquired about the product after seeing the ad\n",
        "\n",
        "# Approved conversion: Total number of people who bought the product after seeing the ad\n",
        "\n",
        "\n",
        "# Instructions:\n",
        "# A) Load the data. Data is already given to you in variable path\n",
        "\n",
        "# B)How many unique ad campaigns (xyzcampaignid) does this data contain ? \n",
        "# And for how many times was each campaign run ?\n",
        "\n",
        "# C) What are the age groups that were targeted through these ad campaigns?\n",
        "\n",
        "# D)What was the average, minimum and maximum amount spent on the ads?\n",
        "\n",
        "# E) What is the id of the ad having the maximum number of clicks ?\n",
        "\n",
        "# F) How many people bought the product after seeing the ad with most clicks? \n",
        "# Is that the maximum number of purchases in this dataset?\n",
        "\n",
        "# G) So the ad with the most clicks didn't fetch the maximum number of purchases. \n",
        "# Find the details of the product having maximum number of purchases"
      ]
    },
    {
      "cell_type": "code",
      "source": [
        "# A) Load the data. Data is already given to you in variable path\n",
        "import numpy as np\n",
        "data_file = \"KAG_Conversion_Data.csv\""
      ],
      "metadata": {
        "id": "3VPzrcB5U2d1"
      },
      "execution_count": null,
      "outputs": []
    },
    {
      "cell_type": "code",
      "source": [
        "data = np.genfromtxt(data_file, delimiter=\",\", skip_header=1, dtype= int)\n",
        "data = np.genfromtxt(data_file, delimiter=\",\", skip_header=1, dtype= str)\n",
        "# data = data.astype()\n",
        "print(\"\\nData: \\n\\n\", data)"
      ],
      "metadata": {
        "colab": {
          "base_uri": "https://localhost:8080/"
        },
        "id": "HZ8_XbmqVFaV",
        "outputId": "f01b8a77-14b8-4d1a-c0b5-c610997c8813"
      },
      "execution_count": null,
      "outputs": [
        {
          "output_type": "stream",
          "name": "stdout",
          "text": [
            "\n",
            "Data: \n",
            "\n",
            " [['708746' '916' '103916' ... '1.429999948' '2' '1']\n",
            " ['708749' '916' '103917' ... '1.820000023' '2' '0']\n",
            " ['708771' '916' '103920' ... '0' '1' '0']\n",
            " ...\n",
            " ['1314412' '1178' '179979' ... '40.28999949' '2' '0']\n",
            " ['1314414' '1178' '179981' ... '198.7100005' '8' '2']\n",
            " ['1314415' '1178' '179982' ... '165.6099987' '5' '2']]\n"
          ]
        }
      ]
    },
    {
      "cell_type": "code",
      "source": [
        "xyz = data[:,1]\n",
        "print(xyz) "
      ],
      "metadata": {
        "colab": {
          "base_uri": "https://localhost:8080/"
        },
        "id": "VhXMPswYVcJ4",
        "outputId": "9a5f4271-c646-406b-fdbc-df3056da4e54"
      },
      "execution_count": null,
      "outputs": [
        {
          "output_type": "stream",
          "name": "stdout",
          "text": [
            "['916' '916' '916' ... '1178' '1178' '1178']\n"
          ]
        }
      ]
    },
    {
      "cell_type": "code",
      "source": [
        "# B) How many unique ad campaigns (xyzcampaignid) does this data contain ? \n",
        "# And for how many times was each campaign run ?\n",
        "\n",
        "np.unique(xyz, return_counts=True)   \n",
        "# use return_counts to get all values \n",
        "# where unique"
      ],
      "metadata": {
        "colab": {
          "base_uri": "https://localhost:8080/"
        },
        "id": "Zb74KTWOVv4u",
        "outputId": "bd629a27-1771-4bcf-9614-5e5265426e79"
      },
      "execution_count": null,
      "outputs": [
        {
          "output_type": "execute_result",
          "data": {
            "text/plain": [
              "(array(['1178', '916', '936'], dtype='<U11'), array([625,  54, 464]))"
            ]
          },
          "metadata": {},
          "execution_count": 7
        }
      ]
    },
    {
      "cell_type": "code",
      "source": [
        "# C) What are the age groups that were targeted through these ad campaigns?\n",
        "\n",
        "AgeTarget = data[:,3]\n",
        "print(AgeTarget)\n",
        "np.unique(AgeTarget, return_counts= True) #, return_index=True)"
      ],
      "metadata": {
        "colab": {
          "base_uri": "https://localhost:8080/"
        },
        "id": "tnbLViYUVwvH",
        "outputId": "113451a5-9038-4a4b-91a0-a2a9f2c8d6da"
      },
      "execution_count": null,
      "outputs": [
        {
          "output_type": "stream",
          "name": "stdout",
          "text": [
            "['30-34' '30-34' '30-34' ... '45-49' '45-49' '45-49']\n"
          ]
        },
        {
          "output_type": "execute_result",
          "data": {
            "text/plain": [
              "(array(['30-34', '35-39', '40-44', '45-49'], dtype='<U11'),\n",
              " array([426, 248, 210, 259]))"
            ]
          },
          "metadata": {},
          "execution_count": 8
        }
      ]
    },
    {
      "cell_type": "code",
      "source": [
        "data = np.genfromtxt(data_file, delimiter=\",\", skip_header=1, dtype= float)\n",
        "\n",
        "print(data)"
      ],
      "metadata": {
        "colab": {
          "base_uri": "https://localhost:8080/"
        },
        "id": "O11q9hJrVw2z",
        "outputId": "66ce835e-71bb-4863-e234-7a7ceb4bb5d4"
      },
      "execution_count": null,
      "outputs": [
        {
          "output_type": "stream",
          "name": "stdout",
          "text": [
            "[[7.08746000e+05 9.16000000e+02 1.03916000e+05 ... 1.42999995e+00\n",
            "  2.00000000e+00 1.00000000e+00]\n",
            " [7.08749000e+05 9.16000000e+02 1.03917000e+05 ... 1.82000002e+00\n",
            "  2.00000000e+00 0.00000000e+00]\n",
            " [7.08771000e+05 9.16000000e+02 1.03920000e+05 ... 0.00000000e+00\n",
            "  1.00000000e+00 0.00000000e+00]\n",
            " ...\n",
            " [1.31441200e+06 1.17800000e+03 1.79979000e+05 ... 4.02899995e+01\n",
            "  2.00000000e+00 0.00000000e+00]\n",
            " [1.31441400e+06 1.17800000e+03 1.79981000e+05 ... 1.98710001e+02\n",
            "  8.00000000e+00 2.00000000e+00]\n",
            " [1.31441500e+06 1.17800000e+03 1.79982000e+05 ... 1.65609999e+02\n",
            "  5.00000000e+00 2.00000000e+00]]\n"
          ]
        }
      ]
    },
    {
      "cell_type": "code",
      "source": [
        "# D) What was the average, minimum and maximum amount spent on the ads?\n",
        "\n",
        "\n",
        "data = np.genfromtxt(data_file, delimiter=\",\", skip_header=1, dtype= float)\n",
        "Avg = np.mean(data[:,8])\n",
        "MINIMUM  = np.min(data[:,8])\n",
        "MAXIMUM = np.max(data[:,8])\n",
        "print(Avg)\n",
        "print(MAXIMUM)\n",
        "print(MINIMUM)"
      ],
      "metadata": {
        "colab": {
          "base_uri": "https://localhost:8080/"
        },
        "id": "jwH9zdQrVw9s",
        "outputId": "5def26f4-1557-4834-f778-4ff9df196b1c"
      },
      "execution_count": null,
      "outputs": [
        {
          "output_type": "stream",
          "name": "stdout",
          "text": [
            "51.36065613141295\n",
            "639.9499981\n",
            "0.0\n"
          ]
        }
      ]
    },
    {
      "cell_type": "code",
      "source": [
        "# Max_Clicks = np.max(data[:7])\n",
        "# print(Max_Clicks)"
      ],
      "metadata": {
        "id": "8mmC8J44VxEO"
      },
      "execution_count": null,
      "outputs": []
    },
    {
      "cell_type": "code",
      "source": [
        "\n",
        "spent = np.mean(data[:,8].astype('float64'))\n",
        "print(spent)"
      ],
      "metadata": {
        "colab": {
          "base_uri": "https://localhost:8080/"
        },
        "id": "6xEaGecLVxKo",
        "outputId": "a3e347ce-e6ca-4e9a-dba2-f01f80b8b534"
      },
      "execution_count": null,
      "outputs": [
        {
          "output_type": "stream",
          "name": "stdout",
          "text": [
            "51.36065613141295\n"
          ]
        }
      ]
    },
    {
      "cell_type": "code",
      "source": [
        "# E) What is the id of the ad having the maximum number of clicks ?\n",
        "np.max(data[:,7])"
      ],
      "metadata": {
        "colab": {
          "base_uri": "https://localhost:8080/"
        },
        "id": "Mkh1YIbYdiBE",
        "outputId": "91ebaf17-72f0-4e63-c530-6760f1f9bbbf"
      },
      "execution_count": null,
      "outputs": [
        {
          "output_type": "execute_result",
          "data": {
            "text/plain": [
              "421.0"
            ]
          },
          "metadata": {},
          "execution_count": 31
        }
      ]
    },
    {
      "cell_type": "code",
      "source": [
        "# F) How many people bought the product after seeing the ad with most clicks? \n",
        "# Is that the maximum number of purchases in this dataset?\n",
        "\n",
        "np.where(data[:,7] == 421)\n",
        "maxof = np.where(data == np.max(data[:,7]))\n",
        "print(maxof)\n",
        "\n",
        "data[maxof[0], 0]"
      ],
      "metadata": {
        "colab": {
          "base_uri": "https://localhost:8080/"
        },
        "id": "6sAt944mdy-1",
        "outputId": "b61f7903-296c-4321-aae3-cdf6ba41ff43"
      },
      "execution_count": null,
      "outputs": [
        {
          "output_type": "stream",
          "name": "stdout",
          "text": [
            "(array([860]), array([7]))\n"
          ]
        },
        {
          "output_type": "execute_result",
          "data": {
            "text/plain": [
              "array([1121814.])"
            ]
          },
          "metadata": {},
          "execution_count": 15
        }
      ]
    },
    {
      "cell_type": "code",
      "source": [
        "# F) How many people bought the product after seeing the ad with most clicks? \n",
        "# Is that the maximum number of purchases in this dataset? ALTERNATIVE WAY\n",
        "ID_max = data[data[:,7] == 421].astype(int)\n",
        "print(ID_max[0,0])\n",
        "print(ID_max[:,:])"
      ],
      "metadata": {
        "colab": {
          "base_uri": "https://localhost:8080/"
        },
        "id": "VUaSPuKAhV3j",
        "outputId": "6a71e4c4-12d8-46b8-8699-af73a8c2751b"
      },
      "execution_count": null,
      "outputs": [
        {
          "output_type": "stream",
          "name": "stdout",
          "text": [
            "1121814\n",
            "[[             1121814                 1178               144659\n",
            "  -9223372036854775808 -9223372036854775808                   27\n",
            "               2223278                  421                  612\n",
            "                    38                   13]]\n"
          ]
        }
      ]
    },
    {
      "cell_type": "code",
      "source": [
        "# z = np.where(data == np.max(data[:,7]))\n",
        "# data[z[0],0]"
      ],
      "metadata": {
        "id": "fTx18AgqehsC"
      },
      "execution_count": null,
      "outputs": []
    },
    {
      "cell_type": "code",
      "source": [
        "# G) How many people bought the product after seeing the ad with most clicks? \n",
        "# Is that the maximum number of purchases in this dataset?\n",
        "#  ALTERNATIVE WAY\n",
        "data[860,10]"
      ],
      "metadata": {
        "colab": {
          "base_uri": "https://localhost:8080/"
        },
        "id": "nTn_MF5gf-ut",
        "outputId": "004357c2-a88d-45d7-971c-75fa2a9381a6"
      },
      "execution_count": null,
      "outputs": [
        {
          "output_type": "execute_result",
          "data": {
            "text/plain": [
              "13.0"
            ]
          },
          "metadata": {},
          "execution_count": 18
        }
      ]
    },
    {
      "cell_type": "code",
      "source": [
        "# Is that the maximum number of purchases in this dataset?\n",
        "np.max(data[:,10])"
      ],
      "metadata": {
        "colab": {
          "base_uri": "https://localhost:8080/"
        },
        "id": "eLifmr14gtQ6",
        "outputId": "0862fdf2-b997-49f8-8c36-83a22ec83f7d"
      },
      "execution_count": null,
      "outputs": [
        {
          "output_type": "execute_result",
          "data": {
            "text/plain": [
              "21.0"
            ]
          },
          "metadata": {},
          "execution_count": 19
        }
      ]
    },
    {
      "cell_type": "code",
      "source": [
        "# So the ad with the most clicks didn't fetch the maximum number of purchases. \n",
        "# Find the details of the product having maximum number of purchases\n",
        "\n",
        "np.unique(data[data[:,10]== 13]).astype(int)"
      ],
      "metadata": {
        "colab": {
          "base_uri": "https://localhost:8080/"
        },
        "id": "agw-9FF1i9kM",
        "outputId": "b4ae7931-10b3-491f-9c80-b21f980aff5f"
      },
      "execution_count": null,
      "outputs": [
        {
          "output_type": "execute_result",
          "data": {
            "text/plain": [
              "array([                  13,                   27,                   38,\n",
              "                        421,                  612,                 1178,\n",
              "                     144659,              1121814,              2223278,\n",
              "       -9223372036854775808, -9223372036854775808])"
            ]
          },
          "metadata": {},
          "execution_count": 20
        }
      ]
    },
    {
      "cell_type": "code",
      "source": [
        "max_Number_of_Purchases = data[data[:,10]==21].astype(int)\n",
        "print(max_Number_of_Purchases)"
      ],
      "metadata": {
        "colab": {
          "base_uri": "https://localhost:8080/"
        },
        "id": "yDUQumkdjgLT",
        "outputId": "0d432ee4-25cd-47d1-90d3-ca97e49d6106"
      },
      "execution_count": null,
      "outputs": [
        {
          "output_type": "stream",
          "name": "stdout",
          "text": [
            "[[             1121104                 1178               144533\n",
            "  -9223372036854775808 -9223372036854775808                   16\n",
            "               2080666                  202                  360\n",
            "                    40                   21]]\n"
          ]
        }
      ]
    },
    {
      "cell_type": "code",
      "source": [
        "max_Number_of_Purchases"
      ],
      "metadata": {
        "colab": {
          "base_uri": "https://localhost:8080/"
        },
        "id": "zaMuBH-ttDto",
        "outputId": "09ba4200-9616-408b-f8ce-9de8738f9824"
      },
      "execution_count": null,
      "outputs": [
        {
          "output_type": "execute_result",
          "data": {
            "text/plain": [
              "array([[             1121104,                 1178,               144533,\n",
              "        -9223372036854775808, -9223372036854775808,                   16,\n",
              "                     2080666,                  202,                  360,\n",
              "                          40,                   21]])"
            ]
          },
          "metadata": {},
          "execution_count": 22
        }
      ]
    },
    {
      "cell_type": "code",
      "source": [
        "print(\"The Ad id for the product having maximum number of purchases: \", max_Number_of_Purchases[0][0])"
      ],
      "metadata": {
        "colab": {
          "base_uri": "https://localhost:8080/"
        },
        "id": "HXpNmrzOpizQ",
        "outputId": "e55c6475-72fb-45d7-ef4d-5699ece0ea94"
      },
      "execution_count": null,
      "outputs": [
        {
          "output_type": "stream",
          "name": "stdout",
          "text": [
            "The Ad id for the product having maximum number of purchases:  1121104\n"
          ]
        }
      ]
    },
    {
      "cell_type": "code",
      "source": [
        "data_string = np.genfromtxt(data_file, delimiter=\",\", skip_header=1, dtype= str)\n",
        "max_Number_of_purchases_str = data_string[528,:]\n",
        "print(max_Number_of_purchases_str)\n",
        "# max_Number_of_Purchases_string = data_string[data_string[:,10]==21]\n",
        "# print(max_Number_of_Purchases_string[528, :])"
      ],
      "metadata": {
        "colab": {
          "base_uri": "https://localhost:8080/"
        },
        "id": "t_sqUHSzqMgm",
        "outputId": "3ffbd747-a4fa-4912-c872-c48ab179ef66"
      },
      "execution_count": null,
      "outputs": [
        {
          "output_type": "stream",
          "name": "stdout",
          "text": [
            "['1121104' '1178' '144533' '30-34' 'M' '16' '2080666' '202' '360.1500015'\n",
            " '40' '21']\n"
          ]
        }
      ]
    },
    {
      "cell_type": "code",
      "source": [
        "np.where(data[:,0]==1121104)"
      ],
      "metadata": {
        "colab": {
          "base_uri": "https://localhost:8080/"
        },
        "id": "0RlvDBeuwgq3",
        "outputId": "ed6ab7ef-90fe-4c41-da25-03f6676269c7"
      },
      "execution_count": null,
      "outputs": [
        {
          "output_type": "execute_result",
          "data": {
            "text/plain": [
              "(array([528]),)"
            ]
          },
          "metadata": {},
          "execution_count": 25
        }
      ]
    },
    {
      "cell_type": "code",
      "source": [
        "max_purchases_index = np.where(data == np.max(data[:,10]))\n",
        "data[max_purchases_index[0][0]]"
      ],
      "metadata": {
        "colab": {
          "base_uri": "https://localhost:8080/"
        },
        "id": "a535631ZvD8q",
        "outputId": "c74b0fc6-c7fa-4b01-82c6-6ea374d1d92d"
      },
      "execution_count": null,
      "outputs": [
        {
          "output_type": "execute_result",
          "data": {
            "text/plain": [
              "array([7.10360000e+05, 9.16000000e+02, 1.04185000e+05,            nan,\n",
              "                  nan, 2.10000000e+01, 2.18200000e+03, 1.00000000e+00,\n",
              "       1.52999997e+00, 1.00000000e+00, 1.00000000e+00])"
            ]
          },
          "metadata": {},
          "execution_count": 26
        }
      ]
    },
    {
      "cell_type": "code",
      "source": [
        "print(\"The Ad id for the product having maximum number of purchases: \", max_Number_of_Purchases[0][0])\n",
        "print(\"The \")"
      ],
      "metadata": {
        "colab": {
          "base_uri": "https://localhost:8080/"
        },
        "id": "iDdAiwgxrXbY",
        "outputId": "98708557-4779-4ce7-8879-15c6d7cc9c2c"
      },
      "execution_count": null,
      "outputs": [
        {
          "output_type": "stream",
          "name": "stdout",
          "text": [
            "The Ad id for the product having maximum number of purchases:  1121104\n",
            "The \n"
          ]
        }
      ]
    },
    {
      "cell_type": "code",
      "source": [
        "dictionary = {\"ad_id\":max_Number_of_Purchases[0][0], \n",
        "              \"xyz_campaign_id\":max_Number_of_Purchases[0][1],\n",
        "              \"fb_campaign_id\":max_Number_of_Purchases[0][2],\n",
        "              \"age\":max_Number_of_purchases_str[3],\n",
        "              \"gender\":max_Number_of_purchases_str[4],\n",
        "              \"interest\":max_Number_of_Purchases[0][5], \n",
        "              \"Impressions\":max_Number_of_Purchases[0][6],\n",
        "              \"Clicks\":max_Number_of_Purchases[0][7],\n",
        "              \"Spent\":max_Number_of_Purchases[0][8],\n",
        "              \"Total_Conversion\":max_Number_of_Purchases[0][9],\n",
        "              \"Approved_Conversion\":max_Number_of_Purchases[0][10]}\n",
        "              \t"
      ],
      "metadata": {
        "id": "Oqh4AorAtVVh"
      },
      "execution_count": null,
      "outputs": []
    },
    {
      "cell_type": "code",
      "source": [
        "print(dictionary)"
      ],
      "metadata": {
        "id": "AlVQnIC9y7fx",
        "outputId": "e5aeaafc-cc18-4bc0-c68a-51a15e17c2c0",
        "colab": {
          "base_uri": "https://localhost:8080/"
        }
      },
      "execution_count": null,
      "outputs": [
        {
          "output_type": "stream",
          "name": "stdout",
          "text": [
            "{'ad_id': 1121104, 'xyz_campaign_id': 1178, 'fb_campaign_id': 144533, 'age': '30-34', 'gender': 'M', 'interest': 16, 'Impressions': 2080666, 'Clicks': 202, 'Spent': 360, 'Total_Conversion': 40, 'Approved_Conversion': 21}\n"
          ]
        }
      ]
    },
    {
      "cell_type": "code",
      "source": [
        ""
      ],
      "metadata": {
        "id": "9YOGP3Gmy-L3"
      },
      "execution_count": null,
      "outputs": []
    }
  ]
}